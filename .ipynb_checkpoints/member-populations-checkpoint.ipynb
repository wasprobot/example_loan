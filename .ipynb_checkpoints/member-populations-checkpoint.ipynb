{
 "cells": [
  {
   "cell_type": "code",
   "execution_count": 1,
   "metadata": {},
   "outputs": [],
   "source": [
    "home = '/Users/mjnitz02/.kaggle/competitions/home-credit-default-risk/'"
   ]
  },
  {
   "cell_type": "code",
   "execution_count": 2,
   "metadata": {},
   "outputs": [],
   "source": [
    "import pandas\n",
    "import numpy\n",
    "import sklearn\n",
    "import sklearn.feature_selection\n",
    "from sklearn import preprocessing"
   ]
  },
  {
   "cell_type": "markdown",
   "metadata": {},
   "source": [
    "## Import Data"
   ]
  },
  {
   "cell_type": "code",
   "execution_count": 3,
   "metadata": {},
   "outputs": [],
   "source": [
    "df_application_train = pandas.read_csv(home + 'application_train.csv')\n",
    "df_bureau = pandas.read_csv(home + 'bureau.csv')\n",
    "df_previous_application = pandas.read_csv(home + 'previous_application.csv')"
   ]
  },
  {
   "cell_type": "markdown",
   "metadata": {},
   "source": [
    "## Identify different groups"
   ]
  },
  {
   "cell_type": "code",
   "execution_count": 4,
   "metadata": {},
   "outputs": [],
   "source": [
    "target_ids = df_application_train['SK_ID_CURR'].unique()"
   ]
  },
  {
   "cell_type": "code",
   "execution_count": 5,
   "metadata": {},
   "outputs": [],
   "source": [
    "target_bureau_ids = df_application_train.merge(\n",
    "    df_bureau[['SK_ID_CURR']], how='inner', on=['SK_ID_CURR'])['SK_ID_CURR'].unique()"
   ]
  },
  {
   "cell_type": "code",
   "execution_count": 6,
   "metadata": {},
   "outputs": [],
   "source": [
    "target_with_bureau = df_application_train[\n",
    "    df_application_train.SK_ID_CURR.isin(target_bureau_ids)]"
   ]
  },
  {
   "cell_type": "code",
   "execution_count": 7,
   "metadata": {},
   "outputs": [],
   "source": [
    "target_previous_ids = df_application_train.merge(\n",
    "    df_previous_application[['SK_ID_CURR']], how='inner', on=['SK_ID_CURR'])['SK_ID_CURR'].unique()"
   ]
  },
  {
   "cell_type": "code",
   "execution_count": 8,
   "metadata": {},
   "outputs": [],
   "source": [
    "target_with_previous = df_application_train[\n",
    "    df_application_train.SK_ID_CURR.isin(target_previous_ids)]"
   ]
  },
  {
   "cell_type": "code",
   "execution_count": 9,
   "metadata": {},
   "outputs": [],
   "source": [
    "target_bureau_previous_ids = df_application_train.merge(\n",
    "    df_bureau[['SK_ID_CURR']], how='inner', on=['SK_ID_CURR']).merge(\n",
    "    df_previous_application[['SK_ID_CURR']], how='inner', on=['SK_ID_CURR'])['SK_ID_CURR'].unique()"
   ]
  },
  {
   "cell_type": "code",
   "execution_count": 10,
   "metadata": {},
   "outputs": [],
   "source": [
    "target_with_bureau_and_previous = df_application_train[\n",
    "    df_application_train.SK_ID_CURR.isin(target_bureau_previous_ids)]"
   ]
  },
  {
   "cell_type": "markdown",
   "metadata": {},
   "source": [
    "## Feature Evaluation"
   ]
  },
  {
   "cell_type": "code",
   "execution_count": 23,
   "metadata": {},
   "outputs": [],
   "source": [
    "def examine_variable(df, variable):\n",
    "    print('processing: %s' % variable)\n",
    "    label_encoder = preprocessing.LabelEncoder()\n",
    "    \n",
    "    series = df[variable]\n",
    "    target = df['TARGET']\n",
    "    \n",
    "    if series.dtype == numpy.object_:\n",
    "        label_encoder.fit(series.unique())\n",
    "        series = pandas.Series(label_encoder.transform(series.values))\n",
    "        \n",
    "        \n",
    "    return {\n",
    "        'variable_type': df[variable].dtype,\n",
    "        'mutual_information': get_mutual_information(series, target),\n",
    "        'stats': get_basic_statistics(series),\n",
    "        'number_of_nan': count_nan_values(df[variable]),\n",
    "        'count_unique_values': count_unique_values(df[variable])\n",
    "    }"
   ]
  },
  {
   "cell_type": "code",
   "execution_count": 12,
   "metadata": {},
   "outputs": [],
   "source": [
    "def get_mutual_information(series, target):\n",
    "    return sklearn.feature_selection.mutual_info_classif(\n",
    "        series.values.reshape(-1, 1), target.values)"
   ]
  },
  {
   "cell_type": "code",
   "execution_count": 13,
   "metadata": {},
   "outputs": [],
   "source": [
    "def get_basic_statistics(series):\n",
    "    return {\n",
    "        'minimum': min(series.tolist()),\n",
    "        'maximum': max(series.tolist()),\n",
    "        'average': sum(series.tolist()) / len(series.tolist()),\n",
    "    }"
   ]
  },
  {
   "cell_type": "code",
   "execution_count": 14,
   "metadata": {},
   "outputs": [],
   "source": [
    "def count_nan_values(series):\n",
    "    return series.isnull().sum()"
   ]
  },
  {
   "cell_type": "code",
   "execution_count": 15,
   "metadata": {},
   "outputs": [],
   "source": [
    "def count_unique_values(series):\n",
    "    return len(series.unique())"
   ]
  },
  {
   "cell_type": "code",
   "execution_count": 26,
   "metadata": {},
   "outputs": [
    {
     "name": "stdout",
     "output_type": "stream",
     "text": [
      "processing: NAME_CONTRACT_TYPE\n",
      "processing: CODE_GENDER\n",
      "processing: FLAG_OWN_CAR\n",
      "processing: FLAG_OWN_REALTY\n",
      "processing: CNT_CHILDREN\n",
      "processing: AMT_INCOME_TOTAL\n"
     ]
    }
   ],
   "source": [
    "results = {}\n",
    "for index, column in enumerate(target_with_bureau.columns):\n",
    "    if 1 < index < 8:\n",
    "        results[column] = examine_variable(target_with_bureau, column)"
   ]
  },
  {
   "cell_type": "code",
   "execution_count": 27,
   "metadata": {},
   "outputs": [
    {
     "data": {
      "text/plain": [
       "{'NAME_CONTRACT_TYPE': {'variable_type': dtype('O'),\n",
       "  'mutual_information': array([0.00098732]),\n",
       "  'stats': {'minimum': 0, 'maximum': 1, 'average': 0.09401080112793227},\n",
       "  'number_of_nan': 0,\n",
       "  'count_unique_values': 2},\n",
       " 'CODE_GENDER': {'variable_type': dtype('O'),\n",
       "  'mutual_information': array([0.00706695]),\n",
       "  'stats': {'minimum': 0, 'maximum': 2, 'average': 0.33648208098189314},\n",
       "  'number_of_nan': 0,\n",
       "  'count_unique_values': 3},\n",
       " 'FLAG_OWN_CAR': {'variable_type': dtype('O'),\n",
       "  'mutual_information': array([0.00720169]),\n",
       "  'stats': {'minimum': 0, 'maximum': 1, 'average': 0.3483230926293498},\n",
       "  'number_of_nan': 0,\n",
       "  'count_unique_values': 2},\n",
       " 'FLAG_OWN_REALTY': {'variable_type': dtype('O'),\n",
       "  'mutual_information': array([0.02660635]),\n",
       "  'stats': {'minimum': 0, 'maximum': 1, 'average': 0.6901260384605167},\n",
       "  'number_of_nan': 0,\n",
       "  'count_unique_values': 2},\n",
       " 'CNT_CHILDREN': {'variable_type': dtype('int64'),\n",
       "  'mutual_information': array([0.00256865]),\n",
       "  'stats': {'minimum': 0, 'maximum': 19, 'average': 0.42350972139465864},\n",
       "  'number_of_nan': 0,\n",
       "  'count_unique_values': 15},\n",
       " 'AMT_INCOME_TOTAL': {'variable_type': dtype('float64'),\n",
       "  'mutual_information': array([0.00322351]),\n",
       "  'stats': {'minimum': 26100.0,\n",
       "   'maximum': 117000000.0,\n",
       "   'average': 171401.7098928806},\n",
       "  'number_of_nan': 0,\n",
       "  'count_unique_values': 2169}}"
      ]
     },
     "execution_count": 27,
     "metadata": {},
     "output_type": "execute_result"
    }
   ],
   "source": [
    "results"
   ]
  },
  {
   "cell_type": "code",
   "execution_count": null,
   "metadata": {},
   "outputs": [],
   "source": []
  }
 ],
 "metadata": {
  "kernelspec": {
   "display_name": "Python 3",
   "language": "python",
   "name": "python3"
  },
  "language_info": {
   "codemirror_mode": {
    "name": "ipython",
    "version": 3
   },
   "file_extension": ".py",
   "mimetype": "text/x-python",
   "name": "python",
   "nbconvert_exporter": "python",
   "pygments_lexer": "ipython3",
   "version": "3.6.5"
  }
 },
 "nbformat": 4,
 "nbformat_minor": 2
}
