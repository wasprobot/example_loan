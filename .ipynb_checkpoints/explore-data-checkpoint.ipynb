{
 "cells": [
  {
   "cell_type": "code",
   "execution_count": 1,
   "metadata": {
    "collapsed": true
   },
   "outputs": [],
   "source": [
    "import pandas as pd"
   ]
  },
  {
   "cell_type": "code",
   "execution_count": 3,
   "metadata": {
    "collapsed": true
   },
   "outputs": [],
   "source": [
    "home = '/Users/wasprobot/.kaggle/competitions/home-credit-default-risk/'"
   ]
  },
  {
   "cell_type": "code",
   "execution_count": 4,
   "metadata": {
    "collapsed": true
   },
   "outputs": [],
   "source": [
    "df_POS_CASH_balance = pd.read_csv(home + 'POS_CASH_balance.csv')\n",
    "df_application_train = pd.read_csv(home + 'application_train.csv')\n",
    "df_bureau = pd.read_csv(home + 'bureau.csv')\n",
    "df_bureau_balance = pd.read_csv(home + 'bureau_balance.csv')\n",
    "df_credit_card_balance = pd.read_csv(home + 'credit_card_balance.csv')\n",
    "df_installments_payments = pd.read_csv(home + 'installments_payments.csv')\n",
    "df_previous_application = pd.read_csv(home + 'previous_application.csv')"
   ]
  },
  {
   "cell_type": "code",
   "execution_count": 6,
   "metadata": {
    "collapsed": false
   },
   "outputs": [
    {
     "data": {
      "text/html": [
       "<div>\n",
       "<table border=\"1\" class=\"dataframe\">\n",
       "  <thead>\n",
       "    <tr style=\"text-align: right;\">\n",
       "      <th></th>\n",
       "      <th>SK_ID_PREV</th>\n",
       "      <th>SK_ID_CURR</th>\n",
       "      <th>MONTHS_BALANCE</th>\n",
       "      <th>CNT_INSTALMENT</th>\n",
       "      <th>CNT_INSTALMENT_FUTURE</th>\n",
       "      <th>NAME_CONTRACT_STATUS</th>\n",
       "      <th>SK_DPD</th>\n",
       "      <th>SK_DPD_DEF</th>\n",
       "    </tr>\n",
       "  </thead>\n",
       "  <tbody>\n",
       "    <tr>\n",
       "      <th>4291344</th>\n",
       "      <td>1969390</td>\n",
       "      <td>397097</td>\n",
       "      <td>-15</td>\n",
       "      <td>42.0</td>\n",
       "      <td>40.0</td>\n",
       "      <td>Active</td>\n",
       "      <td>0</td>\n",
       "      <td>0</td>\n",
       "    </tr>\n",
       "    <tr>\n",
       "      <th>9646167</th>\n",
       "      <td>1760762</td>\n",
       "      <td>244139</td>\n",
       "      <td>-28</td>\n",
       "      <td>6.0</td>\n",
       "      <td>6.0</td>\n",
       "      <td>Active</td>\n",
       "      <td>0</td>\n",
       "      <td>0</td>\n",
       "    </tr>\n",
       "    <tr>\n",
       "      <th>1297369</th>\n",
       "      <td>1899016</td>\n",
       "      <td>210809</td>\n",
       "      <td>-2</td>\n",
       "      <td>36.0</td>\n",
       "      <td>13.0</td>\n",
       "      <td>Active</td>\n",
       "      <td>0</td>\n",
       "      <td>0</td>\n",
       "    </tr>\n",
       "    <tr>\n",
       "      <th>6951234</th>\n",
       "      <td>2214509</td>\n",
       "      <td>441152</td>\n",
       "      <td>-69</td>\n",
       "      <td>10.0</td>\n",
       "      <td>10.0</td>\n",
       "      <td>Active</td>\n",
       "      <td>0</td>\n",
       "      <td>0</td>\n",
       "    </tr>\n",
       "    <tr>\n",
       "      <th>1402213</th>\n",
       "      <td>1899699</td>\n",
       "      <td>134919</td>\n",
       "      <td>-82</td>\n",
       "      <td>8.0</td>\n",
       "      <td>8.0</td>\n",
       "      <td>Active</td>\n",
       "      <td>0</td>\n",
       "      <td>0</td>\n",
       "    </tr>\n",
       "    <tr>\n",
       "      <th>153804</th>\n",
       "      <td>2832154</td>\n",
       "      <td>174428</td>\n",
       "      <td>-25</td>\n",
       "      <td>30.0</td>\n",
       "      <td>26.0</td>\n",
       "      <td>Active</td>\n",
       "      <td>0</td>\n",
       "      <td>0</td>\n",
       "    </tr>\n",
       "    <tr>\n",
       "      <th>8358492</th>\n",
       "      <td>1340616</td>\n",
       "      <td>320485</td>\n",
       "      <td>-10</td>\n",
       "      <td>18.0</td>\n",
       "      <td>0.0</td>\n",
       "      <td>Completed</td>\n",
       "      <td>0</td>\n",
       "      <td>0</td>\n",
       "    </tr>\n",
       "    <tr>\n",
       "      <th>4738779</th>\n",
       "      <td>2153720</td>\n",
       "      <td>356335</td>\n",
       "      <td>-32</td>\n",
       "      <td>24.0</td>\n",
       "      <td>21.0</td>\n",
       "      <td>Active</td>\n",
       "      <td>0</td>\n",
       "      <td>0</td>\n",
       "    </tr>\n",
       "    <tr>\n",
       "      <th>4901054</th>\n",
       "      <td>1229804</td>\n",
       "      <td>436049</td>\n",
       "      <td>-51</td>\n",
       "      <td>24.0</td>\n",
       "      <td>17.0</td>\n",
       "      <td>Active</td>\n",
       "      <td>0</td>\n",
       "      <td>0</td>\n",
       "    </tr>\n",
       "    <tr>\n",
       "      <th>9025244</th>\n",
       "      <td>1153739</td>\n",
       "      <td>160938</td>\n",
       "      <td>-39</td>\n",
       "      <td>24.0</td>\n",
       "      <td>22.0</td>\n",
       "      <td>Active</td>\n",
       "      <td>0</td>\n",
       "      <td>0</td>\n",
       "    </tr>\n",
       "  </tbody>\n",
       "</table>\n",
       "</div>"
      ],
      "text/plain": [
       "         SK_ID_PREV  SK_ID_CURR  MONTHS_BALANCE  CNT_INSTALMENT  \\\n",
       "4291344     1969390      397097             -15            42.0   \n",
       "9646167     1760762      244139             -28             6.0   \n",
       "1297369     1899016      210809              -2            36.0   \n",
       "6951234     2214509      441152             -69            10.0   \n",
       "1402213     1899699      134919             -82             8.0   \n",
       "153804      2832154      174428             -25            30.0   \n",
       "8358492     1340616      320485             -10            18.0   \n",
       "4738779     2153720      356335             -32            24.0   \n",
       "4901054     1229804      436049             -51            24.0   \n",
       "9025244     1153739      160938             -39            24.0   \n",
       "\n",
       "         CNT_INSTALMENT_FUTURE NAME_CONTRACT_STATUS  SK_DPD  SK_DPD_DEF  \n",
       "4291344                   40.0               Active       0           0  \n",
       "9646167                    6.0               Active       0           0  \n",
       "1297369                   13.0               Active       0           0  \n",
       "6951234                   10.0               Active       0           0  \n",
       "1402213                    8.0               Active       0           0  \n",
       "153804                    26.0               Active       0           0  \n",
       "8358492                    0.0            Completed       0           0  \n",
       "4738779                   21.0               Active       0           0  \n",
       "4901054                   17.0               Active       0           0  \n",
       "9025244                   22.0               Active       0           0  "
      ]
     },
     "execution_count": 6,
     "metadata": {},
     "output_type": "execute_result"
    }
   ],
   "source": [
    "df_POS_CASH_balance.sample(10)"
   ]
  },
  {
   "cell_type": "code",
   "execution_count": null,
   "metadata": {
    "collapsed": true
   },
   "outputs": [],
   "source": []
  }
 ],
 "metadata": {
  "anaconda-cloud": {},
  "kernelspec": {
   "display_name": "Python [Root]",
   "language": "python",
   "name": "Python [Root]"
  },
  "language_info": {
   "codemirror_mode": {
    "name": "ipython",
    "version": 3
   },
   "file_extension": ".py",
   "mimetype": "text/x-python",
   "name": "python",
   "nbconvert_exporter": "python",
   "pygments_lexer": "ipython3",
   "version": "3.5.2"
  }
 },
 "nbformat": 4,
 "nbformat_minor": 0
}
